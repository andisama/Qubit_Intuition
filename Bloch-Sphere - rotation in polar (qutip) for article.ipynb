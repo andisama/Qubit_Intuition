{
 "cells": [
  {
   "cell_type": "code",
   "execution_count": 1,
   "metadata": {},
   "outputs": [],
   "source": [
    "# *************************************************************************************************\n",
    "# Author: Andi Sama \n",
    "# Purpose: Illustrate a qubit's states in a blocksphere, a unit ball where r=1\n",
    "#          Generates a gif file\n",
    "#          Using polar coordinates |psi> = f(r=1, theta, phi)\n",
    "#                                        = cos(theta/2) |0> + e^(i*phi)*sin(thetha/2) |1>\n",
    "# Organization: Sinergi Wahana Gemilang\n",
    "# Creation Date: May 2, 2021\n",
    "# Changes history:\n",
    "#   May 8, 2021: finalized\n",
    "# \n",
    "# source: https://sites.google.com/site/tanayroysite/articles/bloch-sphere-animation-using-qutip\n",
    "# *************************************************************************************************"
   ]
  },
  {
   "cell_type": "code",
   "execution_count": 2,
   "metadata": {},
   "outputs": [],
   "source": [
    "import matplotlib as mpl\n",
    "from pylab import *\n",
    "from qutip import *\n",
    "from matplotlib import cm\n",
    "import imageio"
   ]
  },
  {
   "cell_type": "code",
   "execution_count": 3,
   "metadata": {},
   "outputs": [],
   "source": [
    "def animate_bloch(states, fn='bloch_animation.gif', duration=0.1, save_all=False):\n",
    "    b = Bloch(figsize=[8,8])\n",
    "    b.vector_color = ['r']\n",
    "    b.view = [-40,30]\n",
    "    images=[]\n",
    "    try:\n",
    "        length = len(states)\n",
    "    except:\n",
    "        length = 1\n",
    "        states = [states]\n",
    "    ## normalize colors to the length of data ##\n",
    "    nrm = mpl.colors.Normalize(0,length)\n",
    "    colors = cm.cool(nrm(range(length))) # options: cool, summer, winter, autumn etc.\n",
    "\n",
    "    ## customize sphere properties ##\n",
    "    b.point_color = list(colors) # options: 'r', 'g', 'b' etc.\n",
    "    b.point_marker = ['o']\n",
    "    b.point_size = [100]\n",
    "    \n",
    "    for i in range(length):\n",
    "        b.clear()\n",
    "        b.add_states(states[i])\n",
    "        b.add_states(states[:(i+1)],'point')\n",
    "        if save_all:\n",
    "            b.save(dirc='tmp') #saving images to tmp directory\n",
    "            filename=\"tmp/bloch_%01d.png\" % i\n",
    "        else:\n",
    "            filename='temp_file.png'\n",
    "            b.save(filename)\n",
    "        images.append(imageio.imread(filename))\n",
    "    imageio.mimsave(fn, images, duration=duration)"
   ]
  },
  {
   "cell_type": "code",
   "execution_count": 4,
   "metadata": {},
   "outputs": [],
   "source": [
    "# psi = f(r, theta, phi)\n",
    "# r = 1\n",
    "# 0 <= theta <= pi\n",
    "# 0 <= phi <= 2*pi"
   ]
  },
  {
   "cell_type": "code",
   "execution_count": 5,
   "metadata": {},
   "outputs": [],
   "source": [
    "# **********************************************************************************************\n",
    "# |0> to |1>, |1> to |0>\n",
    "# **********************************************************************************************\n",
    "# Phi is 0. Varying Theta starting from |0>, pi ROTATION about Z-axis, quantum state |0> to |1> back to |0>\n",
    "points = 129\n",
    "states = []\n",
    "phi=0\n",
    "thetas = linspace(0,pi,points)\n",
    "for theta in thetas:\n",
    "    states.append((cos(theta/2)*basis(2,0) + exp(1j*(phi))*sin(theta/2)*basis(2,1)).unit())\n",
    "    \n",
    "animate_bloch(states, fn='bloch_1qubit_animation_ket01.gif', duration=0.025, save_all=False)\n",
    "\n",
    "states = []\n",
    "phi=0\n",
    "# thetas = linspace(0,2*pi,points)\n",
    "for theta in thetas[::-1]: # reverse the sequence in thethas by specifying [::-1]\n",
    "    states.append((cos(theta/2)*basis(2,0) + exp(1j*(phi))*sin(theta/2)*basis(2,1)).unit())\n",
    "    \n",
    "animate_bloch(states, fn='bloch_1qubit_animation_ket10.gif', duration=0.025, save_all=False)"
   ]
  },
  {
   "cell_type": "code",
   "execution_count": 6,
   "metadata": {},
   "outputs": [],
   "source": [
    "# **********************************************************************************************\n",
    "# SUPERPOSITION\n",
    "# **********************************************************************************************\n",
    "# Phi is 0. Varying Theta starting from |0>, pi/2 ROTATION about Z-axis, quantum state |0> to |+>\n",
    "points = 65\n",
    "states = []\n",
    "\n",
    "# phi=0\n",
    "# thetas = linspace(0,pi/2,points)\n",
    "# for theta in thetas:\n",
    "#     states.append((cos(theta/2)*basis(2,0) + exp(1j*(phi))*sin(theta/2)*basis(2,1)).unit())\n",
    "\n",
    "# # Phi is 0. Varying Theta starting from |1>, pi/2 ROTATION about Z-axis, quantum state |1> to |->\n",
    "# phi=0\n",
    "# thetas = linspace(pi,3*pi/2,points)\n",
    "# for theta in thetas:\n",
    "#     states.append((cos(theta/2)*basis(2,0) + exp(1j*(phi))*sin(theta/2)*basis(2,1)).unit())\n",
    "\n",
    "phi=0\n",
    "thetas1 = linspace(0,pi/2,points)\n",
    "thetas2 = linspace(pi,3*pi/2,points)\n",
    "for (theta1, theta2) in zip(thetas1, thetas2):\n",
    "    states.append((cos(theta1/2)*basis(2,0) + exp(1j*(phi))*sin(theta1/2)*basis(2,1)).unit())\n",
    "    states.append((cos(theta2/2)*basis(2,0) + exp(1j*(phi))*sin(theta2/2)*basis(2,1)).unit())\n",
    "\n",
    "animate_bloch(states, fn='bloch_1qubit_animation_superposition.gif', duration=0.025, save_all=False)"
   ]
  },
  {
   "cell_type": "code",
   "execution_count": 7,
   "metadata": {},
   "outputs": [],
   "source": [
    "# **********************************************************************************************\n",
    "# ROTATION about X-axis\n",
    "# |+> to |->, |-> to |+>\n",
    "# **********************************************************************************************\n",
    "# Theta started at 90 degrees (pi/2) from z-axis. Varying Phi - ROTATION from X-axis back to X, 0 to 2*pi\n",
    "points = 129\n",
    "states = []\n",
    "# theta = pi/2\n",
    "# phis = linspace(0,2*pi,points)\n",
    "# for phi in phis:\n",
    "#     states.append((cos(theta/2)*basis(2,0) + exp(1j*(phi))*sin(theta/2)*basis(2,1)).unit())\n",
    "\n",
    "theta = pi/2\n",
    "phis1 = linspace(0,pi,points)\n",
    "phis2 = linspace(pi,2*pi,points)\n",
    "for (phi1, phi2) in zip(phis1, phis2):\n",
    "    states.append((cos(theta/2)*basis(2,0) + exp(1j*(phi1))*sin(theta/2)*basis(2,1)).unit())\n",
    "    states.append((cos(theta/2)*basis(2,0) + exp(1j*(phi2))*sin(theta/2)*basis(2,1)).unit())\n",
    "    \n",
    "animate_bloch(states, fn='bloch_1qubit_animation_+-+.gif', duration=0.025, save_all=False)"
   ]
  },
  {
   "cell_type": "code",
   "execution_count": 8,
   "metadata": {},
   "outputs": [],
   "source": [
    "# **********************************************************************************************\n",
    "# ROTATION about Y-axis\n",
    "# |i> to |-i>, |-i> to |i>\n",
    "# **********************************************************************************************\n",
    "# Theta, Phi started at 90 degrees from Z-axis, X-axis.\n",
    "# Varying Theta - ROTATION from Y-axis i to -i, back to i, 0 to 2*pi\n",
    "points = 129\n",
    "states = []\n",
    "phi = pi/2\n",
    "thetas = linspace(pi/2,pi/2+pi,points)\n",
    "\n",
    "for theta in thetas: # |i> to |-i>\n",
    "    states.append((cos(theta/2)*basis(2,0) + exp(1j*(phi))*sin(theta/2)*basis(2,1)).unit())\n",
    "\n",
    "animate_bloch(states, fn='bloch_1qubit_animation_+i-i.gif', duration=0.025, save_all=False)\n",
    "\n",
    "states = []\n",
    "for theta in thetas[::-1]: # array in theta is reversed for |-i> to |i>\n",
    "    states.append((cos(theta/2)*basis(2,0) + exp(1j*(phi))*sin(theta/2)*basis(2,1)).unit())  \n",
    "\n",
    "animate_bloch(states, fn='bloch_1qubit_animation_-i+i.gif', duration=0.025, save_all=False)"
   ]
  },
  {
   "cell_type": "code",
   "execution_count": null,
   "metadata": {},
   "outputs": [],
   "source": []
  }
 ],
 "metadata": {
  "kernelspec": {
   "display_name": "Python 3",
   "language": "python",
   "name": "python3"
  },
  "language_info": {
   "codemirror_mode": {
    "name": "ipython",
    "version": 3
   },
   "file_extension": ".py",
   "mimetype": "text/x-python",
   "name": "python",
   "nbconvert_exporter": "python",
   "pygments_lexer": "ipython3",
   "version": "3.7.7"
  }
 },
 "nbformat": 4,
 "nbformat_minor": 4
}
